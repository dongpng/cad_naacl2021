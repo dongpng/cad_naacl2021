{
 "cells": [
  {
   "cell_type": "code",
   "execution_count": 1,
   "metadata": {},
   "outputs": [],
   "source": [
    "import collections\n",
    "import csv\n",
    "\n",
    "import qgrid\n",
    "import pandas as pd\n",
    "import numpy as np\n",
    "import matplotlib.pyplot as plt\n",
    "\n",
    "import classification_analysis\n",
    "\n",
    "%load_ext autoreload\n",
    "%autoreload 2\n",
    "%matplotlib inline"
   ]
  },
  {
   "cell_type": "markdown",
   "metadata": {},
   "source": [
    "## Read in the data"
   ]
  },
  {
   "cell_type": "markdown",
   "metadata": {},
   "source": [
    "We first read in the data: the full dataset, as well as derived files for training the classifiers."
   ]
  },
  {
   "cell_type": "code",
   "execution_count": 2,
   "metadata": {},
   "outputs": [],
   "source": [
    "df = pd.read_csv(\"../data/cad_v1.tsv\", delimiter=\"\\t\", quoting=csv.QUOTE_NONE,  keep_default_na=False)"
   ]
  },
  {
   "cell_type": "code",
   "execution_count": 3,
   "metadata": {},
   "outputs": [
    {
     "name": "stdout",
     "output_type": "stream",
     "text": [
      "In total we have 27494 rows\n",
      "In total we have 26550 unique entries (-post, -title, comments)\n"
     ]
    }
   ],
   "source": [
    "print(\"In total we have %s rows\" % len(df))\n",
    "print(\"In total we have %s unique entries (-post, -title, comments)\" % len(set(df['info_id'])))"
   ]
  },
  {
   "cell_type": "markdown",
   "metadata": {},
   "source": [
    "Number of unique entries, posts have a '-post' and '-title' entry but are counted as one for statistics"
   ]
  },
  {
   "cell_type": "code",
   "execution_count": 4,
   "metadata": {},
   "outputs": [
    {
     "name": "stdout",
     "output_type": "stream",
     "text": [
      "Total number of unique posts: 1394\n",
      "Total number of unique comments: 23762\n",
      "Total: 25156\n"
     ]
    }
   ],
   "source": [
    "unique_posts = set()\n",
    "unique_comments = set()\n",
    "for index, row in df.iterrows():\n",
    "    if '-title' not in row['info_id']:\n",
    "        if '-post' in row['info_id']:\n",
    "            unique_posts.add(row['info_id'])\n",
    "        else:\n",
    "            unique_comments.add(row['info_id'])\n",
    "        \n",
    "print(\"Total number of unique posts: %s\" % len(unique_posts))\n",
    "print(\"Total number of unique comments: %s\" % len(unique_comments))\n",
    "print(\"Total: %s\" % (len(unique_posts) + len(unique_comments)))"
   ]
  },
  {
   "cell_type": "code",
   "execution_count": 5,
   "metadata": {},
   "outputs": [],
   "source": [
    "df_train = pd.read_csv(\"../data/cad_v1_train.tsv\", delimiter=\"\\t\", quoting=csv.QUOTE_NONE,  keep_default_na=False)\n",
    "df_dev = pd.read_csv(\"../data/cad_v1_dev.tsv\", delimiter=\"\\t\", quoting=csv.QUOTE_NONE,  keep_default_na=False)\n",
    "df_test = pd.read_csv(\"../data/cad_v1_test.tsv\", delimiter=\"\\t\", quoting=csv.QUOTE_NONE,  keep_default_na=False)"
   ]
  },
  {
   "cell_type": "markdown",
   "metadata": {},
   "source": [
    "How does the data look like?"
   ]
  },
  {
   "cell_type": "code",
   "execution_count": 6,
   "metadata": {},
   "outputs": [
    {
     "data": {
      "text/html": [
       "<div>\n",
       "<style scoped>\n",
       "    .dataframe tbody tr th:only-of-type {\n",
       "        vertical-align: middle;\n",
       "    }\n",
       "\n",
       "    .dataframe tbody tr th {\n",
       "        vertical-align: top;\n",
       "    }\n",
       "\n",
       "    .dataframe thead th {\n",
       "        text-align: right;\n",
       "    }\n",
       "</style>\n",
       "<table border=\"1\" class=\"dataframe\">\n",
       "  <thead>\n",
       "    <tr style=\"text-align: right;\">\n",
       "      <th></th>\n",
       "      <th>id</th>\n",
       "      <th>info_id</th>\n",
       "      <th>info_subreddit</th>\n",
       "      <th>info_subreddit_id</th>\n",
       "      <th>info_id.parent</th>\n",
       "      <th>info_id.link</th>\n",
       "      <th>info_thread.id</th>\n",
       "      <th>info_order</th>\n",
       "      <th>info_image.saved</th>\n",
       "      <th>annotation_Primary</th>\n",
       "      <th>...</th>\n",
       "      <th>annotation_Target_top.level.category</th>\n",
       "      <th>annotation_highlighted</th>\n",
       "      <th>meta_author</th>\n",
       "      <th>meta_created_utc</th>\n",
       "      <th>meta_date</th>\n",
       "      <th>meta_day</th>\n",
       "      <th>meta_permalink</th>\n",
       "      <th>split</th>\n",
       "      <th>subreddit_seen</th>\n",
       "      <th>meta_text</th>\n",
       "    </tr>\n",
       "  </thead>\n",
       "  <tbody>\n",
       "    <tr>\n",
       "      <th>0</th>\n",
       "      <td>cad_1</td>\n",
       "      <td>alywla-post</td>\n",
       "      <td>Drama</td>\n",
       "      <td>t5_2rd2l</td>\n",
       "      <td>\"NA\"</td>\n",
       "      <td>\"NA\"</td>\n",
       "      <td>2</td>\n",
       "      <td>02-post</td>\n",
       "      <td>0</td>\n",
       "      <td>Neutral</td>\n",
       "      <td>...</td>\n",
       "      <td>\"NA\"</td>\n",
       "      <td>\"NA\"</td>\n",
       "      <td>RedGT2033</td>\n",
       "      <td>1548999908</td>\n",
       "      <td>2019-02-01T05:45:08Z</td>\n",
       "      <td>2019-02-01T00:00:00Z</td>\n",
       "      <td>/r/Drama/comments/alywla/centrist_daddy_gets_d...</td>\n",
       "      <td>exclude_empty</td>\n",
       "      <td>1</td>\n",
       "      <td></td>\n",
       "    </tr>\n",
       "    <tr>\n",
       "      <th>1</th>\n",
       "      <td>cad_2</td>\n",
       "      <td>am027u-post</td>\n",
       "      <td>conspiracy</td>\n",
       "      <td>t5_2qh4r</td>\n",
       "      <td>\"NA\"</td>\n",
       "      <td>\"NA\"</td>\n",
       "      <td>3</td>\n",
       "      <td>03-post</td>\n",
       "      <td>0</td>\n",
       "      <td>Neutral</td>\n",
       "      <td>...</td>\n",
       "      <td>\"NA\"</td>\n",
       "      <td>\"NA\"</td>\n",
       "      <td>G0LD3NDAWN</td>\n",
       "      <td>1549010283</td>\n",
       "      <td>2019-02-01T08:38:03Z</td>\n",
       "      <td>2019-02-01T00:00:00Z</td>\n",
       "      <td>/r/conspiracy/comments/am027u/what_are_your_op...</td>\n",
       "      <td>test</td>\n",
       "      <td>0</td>\n",
       "      <td>. I just watched a 4 hour long disclosure buff...</td>\n",
       "    </tr>\n",
       "    <tr>\n",
       "      <th>2</th>\n",
       "      <td>cad_3</td>\n",
       "      <td>am80hq-post</td>\n",
       "      <td>subredditcancer</td>\n",
       "      <td>t5_2yv5q</td>\n",
       "      <td>\"NA\"</td>\n",
       "      <td>\"NA\"</td>\n",
       "      <td>5</td>\n",
       "      <td>05-post</td>\n",
       "      <td>0</td>\n",
       "      <td>Neutral</td>\n",
       "      <td>...</td>\n",
       "      <td>\"NA\"</td>\n",
       "      <td>\"NA\"</td>\n",
       "      <td>SpecialThrowaway6</td>\n",
       "      <td>1549062528</td>\n",
       "      <td>2019-02-01T23:08:48Z</td>\n",
       "      <td>2019-02-01T00:00:00Z</td>\n",
       "      <td>/r/subredditcancer/comments/am80hq/banned_and_...</td>\n",
       "      <td>exclude_empty</td>\n",
       "      <td>1</td>\n",
       "      <td></td>\n",
       "    </tr>\n",
       "    <tr>\n",
       "      <th>3</th>\n",
       "      <td>cad_4</td>\n",
       "      <td>amcs27-post</td>\n",
       "      <td>Drama</td>\n",
       "      <td>t5_2rd2l</td>\n",
       "      <td>\"NA\"</td>\n",
       "      <td>\"NA\"</td>\n",
       "      <td>9</td>\n",
       "      <td>09-post</td>\n",
       "      <td>0</td>\n",
       "      <td>Neutral</td>\n",
       "      <td>...</td>\n",
       "      <td>\"NA\"</td>\n",
       "      <td>\"NA\"</td>\n",
       "      <td>[deleted]</td>\n",
       "      <td>1549101640</td>\n",
       "      <td>2019-02-02T10:00:40Z</td>\n",
       "      <td>2019-02-02T00:00:00Z</td>\n",
       "      <td>/r/Drama/comments/amcs27/at_rworldnews_10_hour...</td>\n",
       "      <td>exclude_empty</td>\n",
       "      <td>1</td>\n",
       "      <td></td>\n",
       "    </tr>\n",
       "    <tr>\n",
       "      <th>4</th>\n",
       "      <td>cad_5</td>\n",
       "      <td>aml76e-post</td>\n",
       "      <td>Drama</td>\n",
       "      <td>t5_2rd2l</td>\n",
       "      <td>\"NA\"</td>\n",
       "      <td>\"NA\"</td>\n",
       "      <td>12</td>\n",
       "      <td>12-post</td>\n",
       "      <td>0</td>\n",
       "      <td>Neutral</td>\n",
       "      <td>...</td>\n",
       "      <td>\"NA\"</td>\n",
       "      <td>\"NA\"</td>\n",
       "      <td>KristenLuvsCATS</td>\n",
       "      <td>1549159930</td>\n",
       "      <td>2019-02-03T02:12:10Z</td>\n",
       "      <td>2019-02-03T00:00:00Z</td>\n",
       "      <td>/r/Drama/comments/aml76e/guy_gets_in_trouble_w...</td>\n",
       "      <td>exclude_empty</td>\n",
       "      <td>1</td>\n",
       "      <td></td>\n",
       "    </tr>\n",
       "  </tbody>\n",
       "</table>\n",
       "<p>5 rows × 23 columns</p>\n",
       "</div>"
      ],
      "text/plain": [
       "      id      info_id   info_subreddit info_subreddit_id info_id.parent  \\\n",
       "0  cad_1  alywla-post            Drama          t5_2rd2l           \"NA\"   \n",
       "1  cad_2  am027u-post       conspiracy          t5_2qh4r           \"NA\"   \n",
       "2  cad_3  am80hq-post  subredditcancer          t5_2yv5q           \"NA\"   \n",
       "3  cad_4  amcs27-post            Drama          t5_2rd2l           \"NA\"   \n",
       "4  cad_5  aml76e-post            Drama          t5_2rd2l           \"NA\"   \n",
       "\n",
       "  info_id.link  info_thread.id info_order info_image.saved annotation_Primary  \\\n",
       "0         \"NA\"               2    02-post                0            Neutral   \n",
       "1         \"NA\"               3    03-post                0            Neutral   \n",
       "2         \"NA\"               5    05-post                0            Neutral   \n",
       "3         \"NA\"               9    09-post                0            Neutral   \n",
       "4         \"NA\"              12    12-post                0            Neutral   \n",
       "\n",
       "   ... annotation_Target_top.level.category annotation_highlighted  \\\n",
       "0  ...                                 \"NA\"                   \"NA\"   \n",
       "1  ...                                 \"NA\"                   \"NA\"   \n",
       "2  ...                                 \"NA\"                   \"NA\"   \n",
       "3  ...                                 \"NA\"                   \"NA\"   \n",
       "4  ...                                 \"NA\"                   \"NA\"   \n",
       "\n",
       "         meta_author meta_created_utc             meta_date  \\\n",
       "0          RedGT2033       1548999908  2019-02-01T05:45:08Z   \n",
       "1         G0LD3NDAWN       1549010283  2019-02-01T08:38:03Z   \n",
       "2  SpecialThrowaway6       1549062528  2019-02-01T23:08:48Z   \n",
       "3          [deleted]       1549101640  2019-02-02T10:00:40Z   \n",
       "4    KristenLuvsCATS       1549159930  2019-02-03T02:12:10Z   \n",
       "\n",
       "               meta_day                                     meta_permalink  \\\n",
       "0  2019-02-01T00:00:00Z  /r/Drama/comments/alywla/centrist_daddy_gets_d...   \n",
       "1  2019-02-01T00:00:00Z  /r/conspiracy/comments/am027u/what_are_your_op...   \n",
       "2  2019-02-01T00:00:00Z  /r/subredditcancer/comments/am80hq/banned_and_...   \n",
       "3  2019-02-02T00:00:00Z  /r/Drama/comments/amcs27/at_rworldnews_10_hour...   \n",
       "4  2019-02-03T00:00:00Z  /r/Drama/comments/aml76e/guy_gets_in_trouble_w...   \n",
       "\n",
       "           split subreddit_seen  \\\n",
       "0  exclude_empty              1   \n",
       "1           test              0   \n",
       "2  exclude_empty              1   \n",
       "3  exclude_empty              1   \n",
       "4  exclude_empty              1   \n",
       "\n",
       "                                           meta_text  \n",
       "0                                                     \n",
       "1  . I just watched a 4 hour long disclosure buff...  \n",
       "2                                                     \n",
       "3                                                     \n",
       "4                                                     \n",
       "\n",
       "[5 rows x 23 columns]"
      ]
     },
     "execution_count": 6,
     "metadata": {},
     "output_type": "execute_result"
    }
   ],
   "source": [
    "df.head()"
   ]
  },
  {
   "cell_type": "markdown",
   "metadata": {},
   "source": [
    "## Splits analysis"
   ]
  },
  {
   "cell_type": "markdown",
   "metadata": {},
   "source": [
    "**How many entries do we exclude? (e.g. because they're empty or written by a prolific bot?)**"
   ]
  },
  {
   "cell_type": "code",
   "execution_count": 7,
   "metadata": {},
   "outputs": [
    {
     "name": "stdout",
     "output_type": "stream",
     "text": [
      "Keep 24292, exclude 3202\n"
     ]
    }
   ],
   "source": [
    "df_include = df.loc[df['split'].isin(['train', 'dev', 'test'])]\n",
    "print(\"Keep %s, exclude %s\" % (len(df_include), len(df) - len(df_include)))"
   ]
  },
  {
   "cell_type": "markdown",
   "metadata": {},
   "source": [
    "**The number of entries in each split**"
   ]
  },
  {
   "cell_type": "code",
   "execution_count": 8,
   "metadata": {},
   "outputs": [
    {
     "data": {
      "text/plain": [
       "train            14113\n",
       "test              5495\n",
       "dev               4684\n",
       "exclude_empty     2244\n",
       "exclude_bot        604\n",
       "exclude_lang       353\n",
       "exclude_image        1\n",
       "Name: split, dtype: int64"
      ]
     },
     "execution_count": 8,
     "metadata": {},
     "output_type": "execute_result"
    }
   ],
   "source": [
    "df[\"split\"].value_counts()"
   ]
  },
  {
   "cell_type": "markdown",
   "metadata": {},
   "source": [
    "**For each split, count the number of entries in the subreddits that were seen/unseen during training**"
   ]
  },
  {
   "cell_type": "code",
   "execution_count": 9,
   "metadata": {},
   "outputs": [
    {
     "data": {
      "text/plain": [
       "split          subreddit_seen\n",
       "dev            0                  2782\n",
       "               1                  1902\n",
       "exclude_bot    1                   453\n",
       "               0                   151\n",
       "exclude_empty  1                  1470\n",
       "               0                   774\n",
       "exclude_image  1                     1\n",
       "exclude_lang   1                   323\n",
       "               0                    30\n",
       "test           0                  3568\n",
       "               1                  1927\n",
       "train          1                 14113\n",
       "Name: subreddit_seen, dtype: int64"
      ]
     },
     "execution_count": 9,
     "metadata": {},
     "output_type": "execute_result"
    }
   ],
   "source": [
    "df.groupby('split')['subreddit_seen'].value_counts()"
   ]
  },
  {
   "cell_type": "markdown",
   "metadata": {},
   "source": [
    "## Label distribution analysis"
   ]
  },
  {
   "cell_type": "markdown",
   "metadata": {},
   "source": [
    "Print out the frequencies for each primary category per split"
   ]
  },
  {
   "cell_type": "code",
   "execution_count": 10,
   "metadata": {},
   "outputs": [
    {
     "data": {
      "text/plain": [
       "split          subreddit_seen  annotation_Primary      \n",
       "dev            0               Neutral                      2126\n",
       "                               IdentityDirectedAbuse         277\n",
       "                               AffiliationDirectedAbuse      190\n",
       "                               PersonDirectedAbuse           137\n",
       "                               CounterSpeech                  34\n",
       "                               Slur                           18\n",
       "               1               Neutral                      1538\n",
       "                               IdentityDirectedAbuse         188\n",
       "                               AffiliationDirectedAbuse       89\n",
       "                               PersonDirectedAbuse            69\n",
       "                               Slur                           14\n",
       "                               CounterSpeech                   4\n",
       "exclude_bot    0               Neutral                       137\n",
       "                               IdentityDirectedAbuse          10\n",
       "                               PersonDirectedAbuse             4\n",
       "               1               Neutral                       336\n",
       "                               PersonDirectedAbuse            40\n",
       "                               IdentityDirectedAbuse          35\n",
       "                               AffiliationDirectedAbuse       31\n",
       "                               Slur                            8\n",
       "                               CounterSpeech                   3\n",
       "exclude_empty  0               Neutral                       727\n",
       "                               IdentityDirectedAbuse          29\n",
       "                               AffiliationDirectedAbuse        9\n",
       "                               PersonDirectedAbuse             8\n",
       "                               Slur                            1\n",
       "               1               Neutral                      1384\n",
       "                               IdentityDirectedAbuse          63\n",
       "                               AffiliationDirectedAbuse       15\n",
       "                               PersonDirectedAbuse             4\n",
       "                               Slur                            4\n",
       "exclude_image  1               IdentityDirectedAbuse           1\n",
       "exclude_lang   0               Neutral                        30\n",
       "               1               Neutral                       322\n",
       "                               IdentityDirectedAbuse           1\n",
       "test           0               Neutral                      2889\n",
       "                               IdentityDirectedAbuse         396\n",
       "                               PersonDirectedAbuse           139\n",
       "                               AffiliationDirectedAbuse      103\n",
       "                               CounterSpeech                  32\n",
       "                               Slur                            9\n",
       "               1               Neutral                      1436\n",
       "                               IdentityDirectedAbuse         193\n",
       "                               AffiliationDirectedAbuse      156\n",
       "                               PersonDirectedAbuse            98\n",
       "                               CounterSpeech                  34\n",
       "                               Slur                           10\n",
       "train          1               Neutral                     11010\n",
       "                               IdentityDirectedAbuse        1519\n",
       "                               AffiliationDirectedAbuse      773\n",
       "                               PersonDirectedAbuse           613\n",
       "                               CounterSpeech                 113\n",
       "                               Slur                           85\n",
       "Name: annotation_Primary, dtype: int64"
      ]
     },
     "execution_count": 10,
     "metadata": {},
     "output_type": "execute_result"
    }
   ],
   "source": [
    "df.groupby(['split','subreddit_seen'])['annotation_Primary'].value_counts()"
   ]
  },
  {
   "cell_type": "code",
   "execution_count": 11,
   "metadata": {},
   "outputs": [
    {
     "data": {
      "text/plain": [
       "split          annotation_Primary      \n",
       "dev            Neutral                     0.782237\n",
       "               IdentityDirectedAbuse       0.099274\n",
       "               AffiliationDirectedAbuse    0.059564\n",
       "               PersonDirectedAbuse         0.043980\n",
       "               CounterSpeech               0.008113\n",
       "               Slur                        0.006832\n",
       "exclude_bot    Neutral                     0.783113\n",
       "               IdentityDirectedAbuse       0.074503\n",
       "               PersonDirectedAbuse         0.072848\n",
       "               AffiliationDirectedAbuse    0.051325\n",
       "               Slur                        0.013245\n",
       "               CounterSpeech               0.004967\n",
       "exclude_empty  Neutral                     0.940731\n",
       "               IdentityDirectedAbuse       0.040998\n",
       "               AffiliationDirectedAbuse    0.010695\n",
       "               PersonDirectedAbuse         0.005348\n",
       "               Slur                        0.002228\n",
       "exclude_image  IdentityDirectedAbuse       1.000000\n",
       "exclude_lang   Neutral                     0.997167\n",
       "               IdentityDirectedAbuse       0.002833\n",
       "test           Neutral                     0.787079\n",
       "               IdentityDirectedAbuse       0.107188\n",
       "               AffiliationDirectedAbuse    0.047134\n",
       "               PersonDirectedAbuse         0.043130\n",
       "               CounterSpeech               0.012011\n",
       "               Slur                        0.003458\n",
       "train          Neutral                     0.780132\n",
       "               IdentityDirectedAbuse       0.107631\n",
       "               AffiliationDirectedAbuse    0.054772\n",
       "               PersonDirectedAbuse         0.043435\n",
       "               CounterSpeech               0.008007\n",
       "               Slur                        0.006023\n",
       "Name: annotation_Primary, dtype: float64"
      ]
     },
     "execution_count": 11,
     "metadata": {},
     "output_type": "execute_result"
    }
   ],
   "source": [
    "df.groupby(['split'])['annotation_Primary'].value_counts(normalize=True)"
   ]
  },
  {
   "cell_type": "code",
   "execution_count": 12,
   "metadata": {},
   "outputs": [
    {
     "data": {
      "text/plain": [
       "\"NA\"                                                             22084\n",
       "IdentityDirectedAbuse / animosity                                 1577\n",
       "IdentityDirectedAbuse / derogation                                1026\n",
       "AffiliationDirectedAbuse / animosity                               676\n",
       "AffiliationDirectedAbuse / derogation                              629\n",
       "PersonDirectedAbuse / directed to a person in the thread           560\n",
       "PersonDirectedAbuse / about a person who is not in the thread      552\n",
       "CounterSpeech / identity-directed                                  115\n",
       "CounterSpeech / affiliation-directed                                53\n",
       "CounterSpeech / person-directed                                     52\n",
       "IdentityDirectedAbuse / glorification                               49\n",
       "IdentityDirectedAbuse / threatening language                        31\n",
       "AffiliationDirectedAbuse / dehumanization                           31\n",
       "AffiliationDirectedAbuse / threatening language                     30\n",
       "IdentityDirectedAbuse / dehumanization                              29\n",
       "Name: annotation_Secondary, dtype: int64"
      ]
     },
     "execution_count": 12,
     "metadata": {},
     "output_type": "execute_result"
    }
   ],
   "source": [
    "df['annotation_Secondary'].value_counts()"
   ]
  },
  {
   "cell_type": "code",
   "execution_count": 13,
   "metadata": {},
   "outputs": [
    {
     "data": {
      "text/plain": [
       "Neutral                     0.797810\n",
       "IdentityDirectedAbuse       0.098640\n",
       "AffiliationDirectedAbuse    0.049684\n",
       "PersonDirectedAbuse         0.040445\n",
       "CounterSpeech               0.008002\n",
       "Slur                        0.005419\n",
       "Name: annotation_Primary, dtype: float64"
      ]
     },
     "execution_count": 13,
     "metadata": {},
     "output_type": "execute_result"
    }
   ],
   "source": [
    "df['annotation_Primary'].value_counts(normalize=True)"
   ]
  },
  {
   "cell_type": "markdown",
   "metadata": {},
   "source": [
    "# Read in the splits"
   ]
  },
  {
   "cell_type": "code",
   "execution_count": 14,
   "metadata": {},
   "outputs": [
    {
     "name": "stdout",
     "output_type": "stream",
     "text": [
      "Total number of entries: 23417.0\n",
      "Train: 13584 (0.580); Dev: 4526 (0.193); Test: 5307 (0.227)\n"
     ]
    }
   ],
   "source": [
    "num_posts= float(len(df_train) + len(df_dev) + len(df_test))\n",
    "print(\"Total number of entries: %s\" % num_posts)\n",
    "print(\"Train: %s (%.3f); Dev: %s (%.3f); Test: %s (%.3f)\" % (len(df_train), len(df_train)/num_posts, \n",
    "                                                       len(df_dev), len(df_dev)/num_posts, \n",
    "                                                       len(df_test), len(df_test)/num_posts))"
   ]
  },
  {
   "cell_type": "markdown",
   "metadata": {},
   "source": [
    "Only keep one row per entry"
   ]
  },
  {
   "cell_type": "code",
   "execution_count": 15,
   "metadata": {},
   "outputs": [
    {
     "data": {
      "text/plain": [
       "train            13584\n",
       "test              5307\n",
       "dev               4526\n",
       "exclude_empty     2211\n",
       "exclude_bot        568\n",
       "exclude_lang       353\n",
       "exclude_image        1\n",
       "Name: split, dtype: int64"
      ]
     },
     "execution_count": 15,
     "metadata": {},
     "output_type": "execute_result"
    }
   ],
   "source": [
    "df.drop_duplicates(subset=['info_id'])[\"split\"].value_counts()"
   ]
  },
  {
   "cell_type": "markdown",
   "metadata": {},
   "source": [
    "How many neutral entries are there in the test split?"
   ]
  },
  {
   "cell_type": "code",
   "execution_count": 16,
   "metadata": {},
   "outputs": [
    {
     "name": "stdout",
     "output_type": "stream",
     "text": [
      "Fraction of Neutral posts in test: 81.8\n"
     ]
    }
   ],
   "source": [
    "print(\"Fraction of Neutral posts in test: %.1f\" % (100 * len(df_test[df_test['labels']=='Neutral'])/len(df_test)))"
   ]
  },
  {
   "cell_type": "markdown",
   "metadata": {},
   "source": [
    "# Context "
   ]
  },
  {
   "cell_type": "markdown",
   "metadata": {},
   "source": [
    "annotation_Context indicates whether the annotation depended on previous content. "
   ]
  },
  {
   "cell_type": "code",
   "execution_count": 17,
   "metadata": {},
   "outputs": [
    {
     "data": {
      "text/plain": [
       "\"NA\"               21935\n",
       "CurrentContent      3993\n",
       "PreviousContent     1566\n",
       "Name: annotation_Context, dtype: int64"
      ]
     },
     "execution_count": 17,
     "metadata": {},
     "output_type": "execute_result"
    }
   ],
   "source": [
    "df['annotation_Context'].value_counts()"
   ]
  },
  {
   "cell_type": "code",
   "execution_count": 18,
   "metadata": {},
   "outputs": [
    {
     "data": {
      "text/plain": [
       "annotation_Primary        annotation_Context\n",
       "AffiliationDirectedAbuse  CurrentContent         1033\n",
       "                          PreviousContent         333\n",
       "CounterSpeech             PreviousContent         220\n",
       "IdentityDirectedAbuse     CurrentContent         2046\n",
       "                          PreviousContent         666\n",
       "Neutral                   \"NA\"                  21935\n",
       "PersonDirectedAbuse       CurrentContent          765\n",
       "                          PreviousContent         347\n",
       "Slur                      CurrentContent          149\n",
       "Name: annotation_Context, dtype: int64"
      ]
     },
     "execution_count": 18,
     "metadata": {},
     "output_type": "execute_result"
    }
   ],
   "source": [
    "df.groupby(['annotation_Primary'])['annotation_Context'].value_counts()"
   ]
  },
  {
   "cell_type": "markdown",
   "metadata": {},
   "source": [
    "Print out a few entries for which the annotation depended on the previous content"
   ]
  },
  {
   "cell_type": "code",
   "execution_count": 37,
   "metadata": {},
   "outputs": [
    {
     "name": "stdout",
     "output_type": "stream",
     "text": [
      "efmlmcc\tIdentityDirectedAbuse\tHave you guys heard about the butt pizza?  [linebreak]  [linebreak]   [linebreak]  [linebreak]   [linebreak]  [linebreak]   [linebreak]  [linebreak]   [linebreak]  [linebreak]   [linebreak]  [linebreak] It's pretty shit.\n",
      "efnjb9v\tIdentityDirectedAbuse\tI hate that I found this funny\n",
      "efryz1c\tIdentityDirectedAbuse\tDont be jelous\n",
      "efw17ni\tIdentityDirectedAbuse\tYou havent seen those vids of britain where the entire neighborhoods are 100% muslims?\n",
      "egh0p9t\tIdentityDirectedAbuse\tWhat about a butt plug for you?\n",
      "eghj9fq\tIdentityDirectedAbuse\tmaybe stop sexting gay dudes?\n",
      "eghqvyj\tIdentityDirectedAbuse\tThat was very halal\n",
      "eghymnk\tIdentityDirectedAbuse\t*You have expelled the Jews from r/Drama*\n",
      "eghyrx6\tIdentityDirectedAbuse\tThis but unironically\n",
      "egi67x1\tIdentityDirectedAbuse\tThis but unironically.\n",
      "egj0rz7\tPersonDirectedAbuse\tDo you tie your own shoes?\n",
      "egx1tyg\tAffiliationDirectedAbuse\tDaughter: dad, can you take me to school [linebreak]  [linebreak] Me: sorry sweety, I can't be alone with you for any period of time, it wouldn't be *feminist* of me\n",
      "egxwakf\tIdentityDirectedAbuse\tI was accosted walking down the road yesterday.  Two big black Jamaican fellas put a noose around my head and said \"Welcome to Marley country\" [linebreak]  [linebreak] Granted I live in the arse end of NZ and the only person with African heritage I've met is 5 years is a lesbian, but I'M A VICTIM BELIEVE ME! [linebreak]  [linebreak] PM me for paypal details if you want to give me money.\n",
      "egznh47\tCounterSpeech\tTrans women are women\n",
      "eh1vwix\tPersonDirectedAbuse\tRead further, it's the alternative lol\n",
      "eh72h7l\tIdentityDirectedAbuse\tName a time where a woman deceived someone. [linebreak]  [linebreak] I'll wait.\n",
      "ehlgnjo\tIdentityDirectedAbuse\tWhat is this Jewish magic trick?\n",
      "ehqiw1s\tIdentityDirectedAbuse\txe edited the article to make it look sexist\n",
      "ehqqvic\tAffiliationDirectedAbuse\tThe hat trick!\n",
      "ehqxuhp\tIdentityDirectedAbuse\t*they\n"
     ]
    }
   ],
   "source": [
    "t = 0\n",
    "for index, row in df.iterrows():\n",
    "    if row['annotation_Context'] == 'PreviousContent' and row['split'] == \"train\":\n",
    "        print(\"%s\\t%s\\t%s\" % (row['info_id'], row['annotation_Primary'], row['meta_text']))\n",
    "        t += 1\n",
    "        if t == 20:\n",
    "            break"
   ]
  },
  {
   "cell_type": "markdown",
   "metadata": {},
   "source": [
    "# Info image"
   ]
  },
  {
   "cell_type": "markdown",
   "metadata": {},
   "source": [
    "Prints the counts for image info"
   ]
  },
  {
   "cell_type": "code",
   "execution_count": 20,
   "metadata": {},
   "outputs": [
    {
     "data": {
      "text/plain": [
       "0                26933\n",
       "1                  428\n",
       "imageNotSaved      133\n",
       "Name: info_image.saved, dtype: int64"
      ]
     },
     "execution_count": 20,
     "metadata": {},
     "output_type": "execute_result"
    }
   ],
   "source": [
    "df['info_image.saved'].value_counts() "
   ]
  },
  {
   "cell_type": "markdown",
   "metadata": {},
   "source": [
    "# Bots analysis"
   ]
  },
  {
   "cell_type": "code",
   "execution_count": 21,
   "metadata": {},
   "outputs": [
    {
     "data": {
      "text/html": [
       "<div>\n",
       "<style scoped>\n",
       "    .dataframe tbody tr th:only-of-type {\n",
       "        vertical-align: middle;\n",
       "    }\n",
       "\n",
       "    .dataframe tbody tr th {\n",
       "        vertical-align: top;\n",
       "    }\n",
       "\n",
       "    .dataframe thead th {\n",
       "        text-align: right;\n",
       "    }\n",
       "</style>\n",
       "<table border=\"1\" class=\"dataframe\">\n",
       "  <thead>\n",
       "    <tr style=\"text-align: right;\">\n",
       "      <th></th>\n",
       "      <th>info_id</th>\n",
       "      <th>annotation_Primary</th>\n",
       "      <th>meta_author</th>\n",
       "      <th>meta_text</th>\n",
       "    </tr>\n",
       "  </thead>\n",
       "  <tbody>\n",
       "    <tr>\n",
       "      <th>957</th>\n",
       "      <td>efk0mta</td>\n",
       "      <td>Neutral</td>\n",
       "      <td>SnapshillBot</td>\n",
       "      <td>[linebreak]  [linebreak] Snapshots: [linebreak...</td>\n",
       "    </tr>\n",
       "    <tr>\n",
       "      <th>989</th>\n",
       "      <td>efl0iyd</td>\n",
       "      <td>Neutral</td>\n",
       "      <td>SnapshillBot</td>\n",
       "      <td>That was worse than I thought it would be. The...</td>\n",
       "    </tr>\n",
       "    <tr>\n",
       "      <th>1052</th>\n",
       "      <td>efm53w9</td>\n",
       "      <td>Neutral</td>\n",
       "      <td>AutoModerator</td>\n",
       "      <td>[linebreak] Speaking of cancer, Krackajak78......</td>\n",
       "    </tr>\n",
       "    <tr>\n",
       "      <th>1057</th>\n",
       "      <td>efmqz8g</td>\n",
       "      <td>Neutral</td>\n",
       "      <td>SnapshillBot</td>\n",
       "      <td>You were put down, in the future please refrai...</td>\n",
       "    </tr>\n",
       "    <tr>\n",
       "      <th>1181</th>\n",
       "      <td>efqkrhj</td>\n",
       "      <td>Neutral</td>\n",
       "      <td>SnapshillBot</td>\n",
       "      <td>Gay porn is a genre that cuts across all demog...</td>\n",
       "    </tr>\n",
       "    <tr>\n",
       "      <th>...</th>\n",
       "      <td>...</td>\n",
       "      <td>...</td>\n",
       "      <td>...</td>\n",
       "      <td>...</td>\n",
       "    </tr>\n",
       "    <tr>\n",
       "      <th>25787</th>\n",
       "      <td>eu7uasi</td>\n",
       "      <td>Neutral</td>\n",
       "      <td>SnapshillBot</td>\n",
       "      <td>Spez is YOUR admin!!!!1 8 more years!!!!1! dea...</td>\n",
       "    </tr>\n",
       "    <tr>\n",
       "      <th>25812</th>\n",
       "      <td>eub58pv</td>\n",
       "      <td>PersonDirectedAbuse</td>\n",
       "      <td>SnapshillBot</td>\n",
       "      <td>Are you genuinely mentally challenged? Please ...</td>\n",
       "    </tr>\n",
       "    <tr>\n",
       "      <th>25815</th>\n",
       "      <td>eubp4ua</td>\n",
       "      <td>IdentityDirectedAbuse</td>\n",
       "      <td>AutoModerator</td>\n",
       "      <td>[linebreak] Woah there CareBearStare666! Next ...</td>\n",
       "    </tr>\n",
       "    <tr>\n",
       "      <th>25976</th>\n",
       "      <td>ejetupi</td>\n",
       "      <td>Slur</td>\n",
       "      <td>AutoModerator</td>\n",
       "      <td>Your comment has been removed. As of recently,...</td>\n",
       "    </tr>\n",
       "    <tr>\n",
       "      <th>26062</th>\n",
       "      <td>ejetupi</td>\n",
       "      <td>CounterSpeech</td>\n",
       "      <td>AutoModerator</td>\n",
       "      <td>Your comment has been removed. As of recently,...</td>\n",
       "    </tr>\n",
       "  </tbody>\n",
       "</table>\n",
       "<p>604 rows × 4 columns</p>\n",
       "</div>"
      ],
      "text/plain": [
       "       info_id     annotation_Primary    meta_author  \\\n",
       "957    efk0mta                Neutral   SnapshillBot   \n",
       "989    efl0iyd                Neutral   SnapshillBot   \n",
       "1052   efm53w9                Neutral  AutoModerator   \n",
       "1057   efmqz8g                Neutral   SnapshillBot   \n",
       "1181   efqkrhj                Neutral   SnapshillBot   \n",
       "...        ...                    ...            ...   \n",
       "25787  eu7uasi                Neutral   SnapshillBot   \n",
       "25812  eub58pv    PersonDirectedAbuse   SnapshillBot   \n",
       "25815  eubp4ua  IdentityDirectedAbuse  AutoModerator   \n",
       "25976  ejetupi                   Slur  AutoModerator   \n",
       "26062  ejetupi          CounterSpeech  AutoModerator   \n",
       "\n",
       "                                               meta_text  \n",
       "957    [linebreak]  [linebreak] Snapshots: [linebreak...  \n",
       "989    That was worse than I thought it would be. The...  \n",
       "1052   [linebreak] Speaking of cancer, Krackajak78......  \n",
       "1057   You were put down, in the future please refrai...  \n",
       "1181   Gay porn is a genre that cuts across all demog...  \n",
       "...                                                  ...  \n",
       "25787  Spez is YOUR admin!!!!1 8 more years!!!!1! dea...  \n",
       "25812  Are you genuinely mentally challenged? Please ...  \n",
       "25815  [linebreak] Woah there CareBearStare666! Next ...  \n",
       "25976  Your comment has been removed. As of recently,...  \n",
       "26062  Your comment has been removed. As of recently,...  \n",
       "\n",
       "[604 rows x 4 columns]"
      ]
     },
     "execution_count": 21,
     "metadata": {},
     "output_type": "execute_result"
    }
   ],
   "source": [
    "df.loc[df['split'] == 'exclude_bot'][[\"info_id\",\"annotation_Primary\", \"meta_author\", \"meta_text\"]]"
   ]
  },
  {
   "cell_type": "markdown",
   "metadata": {},
   "source": [
    "Get stats for the two prolific bots"
   ]
  },
  {
   "cell_type": "code",
   "execution_count": 22,
   "metadata": {},
   "outputs": [
    {
     "data": {
      "text/plain": [
       "Neutral                     236\n",
       "PersonDirectedAbuse          35\n",
       "IdentityDirectedAbuse        35\n",
       "AffiliationDirectedAbuse     31\n",
       "CounterSpeech                 2\n",
       "Name: annotation_Primary, dtype: int64"
      ]
     },
     "execution_count": 22,
     "metadata": {},
     "output_type": "execute_result"
    }
   ],
   "source": [
    "df.loc[df['meta_author'] == 'SnapshillBot']['annotation_Primary'].value_counts()"
   ]
  },
  {
   "cell_type": "code",
   "execution_count": 23,
   "metadata": {},
   "outputs": [
    {
     "data": {
      "text/plain": [
       "Neutral                  237\n",
       "IdentityDirectedAbuse     10\n",
       "PersonDirectedAbuse        9\n",
       "Slur                       8\n",
       "CounterSpeech              1\n",
       "Name: annotation_Primary, dtype: int64"
      ]
     },
     "execution_count": 23,
     "metadata": {},
     "output_type": "execute_result"
    }
   ],
   "source": [
    "df.loc[df['meta_author'] == 'AutoModerator']['annotation_Primary'].value_counts()"
   ]
  },
  {
   "cell_type": "markdown",
   "metadata": {},
   "source": [
    "# Text length analysis"
   ]
  },
  {
   "cell_type": "markdown",
   "metadata": {},
   "source": [
    "Get the unique set of texts and preprocess it"
   ]
  },
  {
   "cell_type": "code",
   "execution_count": 24,
   "metadata": {},
   "outputs": [
    {
     "name": "stdout",
     "output_type": "stream",
     "text": [
      "**\n",
      ". I just watched a 4 hour long disclosure buffet my greer. I honestly have no reason I would doubt him. He had extensive knowledge. His history and accounts are all verifiable. He has incredibly powerful and high up people informing or working with him. This video I'm pretty sure was ten years old have no idea what he's up to these days. I am impressed he just comes out and tells you what he knows and I'm sure the only reason he's Alive is because no one could even make this stuff up. If everything he says is true I don't know how he copes with a reality like that. \n",
      "  \n",
      " Although Tom DeLonge has some impressive sounding people in his \"accadedemy\" they are a few very smart people with nice sounding titles Lou Elizando who I admire for wanting to disclose, was only running a program that was disinfo at best. Head of aerospace threat identification program sounds for the Pentagon sounds super impressive but if greer is telling the truth he was a government coffee boy. I would bet my life savings Trump I would never be read into magic12 or even told anything more than what keeps him entertained. His books were very fun to read and incredibly fun. If you know about nazj Germany, vril, anartica, the post ww2 expedition, area 51, and all the publicly documented sightings in public knowledge you will learn nothing but the fictional stories about people involved in the deepest levels are a fun \"look in\". I think Tom wants to find out the \"truth\" whatever the hell that is, but is way over his head. Probably half his team are people that are in the know set to spread disinfo. It gets people thinking though but like I usually say baby steps are always good.\n",
      "**\n",
      "I just got laid off. I don't even know what to think, feel, say, do. I've worked for this company for over a year and I got a promotion a few months back and for the first time in a long time i was feeling amazing, not just with my job, but my mental health was the best it has been in a long time and for it to just.. disappear and get that rug pulled from under me so suddenly is just... i dont know. The only word that explains what i feel this exact second is just \"Numbing\". I just feel numb with this whole situation. I already cried, felt sorry for myself, vented with my SO. Now I got home, and im just sitting in my couch writing this and I just feel. Numb. \n",
      "  \n",
      " Sorry for the grammar. Im not thinking, just, venting it out to get it out of my system.\n"
     ]
    }
   ],
   "source": [
    "texts = df_include.drop_duplicates(subset=['info_id'])['meta_text'].tolist()\n",
    "texts =  [s.replace('[linebreak]', \"\\n\").strip() for s in texts]\n",
    "for text in texts[:2]:\n",
    "    print(\"**\")\n",
    "    print(text)"
   ]
  },
  {
   "cell_type": "markdown",
   "metadata": {},
   "source": [
    "Print the text lenghts (number of chars)"
   ]
  },
  {
   "cell_type": "code",
   "execution_count": 25,
   "metadata": {},
   "outputs": [
    {
     "data": {
      "image/png": "[encoded data removed]",
      "text/plain": [
       "<Figure size 720x504 with 1 Axes>"
      ]
     },
     "metadata": {
      "needs_background": "light"
     },
     "output_type": "display_data"
    }
   ],
   "source": [
    "char_lenghts = [len(s) for s in texts]\n",
    "plt.figure(figsize=(10,7))\n",
    "n, bins, patches = plt.hist(char_lenghts, 50, facecolor='g', alpha=0.75)\n",
    "\n",
    "plt.xlabel('Text lengths (characters)')\n",
    "plt.ylabel('Frequency')\n",
    "plt.grid(True)\n",
    "plt.show()"
   ]
  },
  {
   "cell_type": "code",
   "execution_count": 26,
   "metadata": {},
   "outputs": [
    {
     "name": "stdout",
     "output_type": "stream",
     "text": [
      "Length of longest text: 10714\n"
     ]
    }
   ],
   "source": [
    "longest_text = \"\"\n",
    "for text in texts:\n",
    "    if len(text) > len(longest_text):\n",
    "        longest_text = text\n",
    "        \n",
    "# multiple spaces removed\n",
    "print(\"Length of longest text: %s\" % len(\" \".join(longest_text.split())))\n",
    "#print(longest_text)"
   ]
  },
  {
   "cell_type": "markdown",
   "metadata": {},
   "source": [
    "# Rationales"
   ]
  },
  {
   "cell_type": "markdown",
   "metadata": {},
   "source": [
    "First, print the average rationale length for the primary and secondary categories in the training data.\n",
    "Neutral doesn't contain rationales (so skip)."
   ]
  },
  {
   "cell_type": "code",
   "execution_count": 27,
   "metadata": {},
   "outputs": [
    {
     "name": "stdout",
     "output_type": "stream",
     "text": [
      "Primary category: rationale length\n",
      "AffiliationDirectedAbuse\t112.2122\t773\n",
      "PersonDirectedAbuse\t86.8434\t613\n",
      "IdentityDirectedAbuse\t83.9236\t1519\n",
      "Slur\t6.2000\t85\n",
      "CounterSpeech\t279.1062\t113\n",
      "\n",
      "Secondary category: rationale length\n",
      "AffiliationDirectedAbuse_AffiliationDirectedAbuse / derogation\t121.2920\t339\n",
      "PersonDirectedAbuse_PersonDirectedAbuse / directed to a person in the thread\t85.2737\t285\n",
      "IdentityDirectedAbuse_IdentityDirectedAbuse / animosity\t82.5038\t913\n",
      "PersonDirectedAbuse_PersonDirectedAbuse / about a person who is not in the thread\t88.2073\t328\n",
      "Slur_\"NA\"\t6.2000\t85\n",
      "IdentityDirectedAbuse_IdentityDirectedAbuse / derogation\t84.7996\t564\n",
      "AffiliationDirectedAbuse_AffiliationDirectedAbuse / animosity\t106.8454\t401\n",
      "CounterSpeech_CounterSpeech / identity-directed\t148.2963\t54\n",
      "CounterSpeech_CounterSpeech / affiliation-directed\t642.1613\t31\n",
      "AffiliationDirectedAbuse_AffiliationDirectedAbuse / dehumanization\t86.8750\t16\n",
      "CounterSpeech_CounterSpeech / person-directed\t129.4286\t28\n",
      "IdentityDirectedAbuse_IdentityDirectedAbuse / threatening language\t69.8889\t18\n",
      "IdentityDirectedAbuse_IdentityDirectedAbuse / dehumanization\t196.9091\t11\n",
      "IdentityDirectedAbuse_IdentityDirectedAbuse / glorification\t69.4615\t13\n",
      "AffiliationDirectedAbuse_AffiliationDirectedAbuse / threatening language\t81.5882\t17\n",
      "\n",
      "Primary category: rationale length / main text\n",
      "AffiliationDirectedAbuse\t0.6954\t773\n",
      "PersonDirectedAbuse\t0.7819\t613\n",
      "IdentityDirectedAbuse\t0.7238\t1519\n",
      "Slur\t0.5712\t85\n",
      "CounterSpeech\t0.8595\t113\n"
     ]
    }
   ],
   "source": [
    "# First collect all rationales by category\n",
    "rats_map_sec = {}\n",
    "rats_map_prim = {}\n",
    "\n",
    "# rationale / text length\n",
    "rats_map_prim_text = {}\n",
    "\n",
    "for index, row in df.iterrows():\n",
    "    if row['split'] == \"train\":\n",
    "        if row['annotation_Primary'] != 'Neutral':\n",
    "            \n",
    "            # Preprocess the data\n",
    "            rationale = row['annotation_highlighted'].replace('[linebreak]', \"\\n\")\n",
    "            main_text = row['meta_text'].replace('[linebreak]', \"\\n\")\n",
    "                \n",
    "            # Store the rationale by primary cat\n",
    "            if row['annotation_Primary'] not in rats_map_prim:\n",
    "                rats_map_prim[row['annotation_Primary']] = [rationale]\n",
    "                rats_map_prim_text[row['annotation_Primary']] = [len(main_text) - len(rationale)]\n",
    "            else:\n",
    "                rats_map_prim[row['annotation_Primary']].append(rationale)\n",
    "                rats_map_prim_text[row['annotation_Primary']].append(len(rationale)/float(len(main_text)))\n",
    "            \n",
    "            # Store the rationale also by secondary cat\n",
    "            sec_cat = row['annotation_Primary'] + '_' + row['annotation_Secondary']\n",
    "            if sec_cat not in rats_map_sec:\n",
    "                rats_map_sec[sec_cat] = [rationale]\n",
    "            else:\n",
    "                rats_map_sec[sec_cat].append(rationale)\n",
    "\n",
    "# Now print out the stats\n",
    "print(\"Primary category: rationale length\")\n",
    "for prim_cat, rationales in rats_map_prim.items():\n",
    "    lengths = np.array([len(s) for s in rationales])\n",
    "    print(\"%s\\t%.4f\\t%s\" % (prim_cat, lengths.mean(), len(lengths)))\n",
    "    \n",
    "print(\"\\nSecondary category: rationale length\")\n",
    "for sec_cat, rationales in rats_map_sec.items():\n",
    "    lengths = np.array([len(s) for s in rationales])\n",
    "    print(\"%s\\t%.4f\\t%s\" % (sec_cat, lengths.mean(), len(lengths)))\n",
    "    \n",
    "print(\"\\nPrimary category: rationale length / main text\")\n",
    "for prim_cat, lengths in rats_map_prim_text.items():\n",
    "    print(\"%s\\t%.4f\\t%s\" % (prim_cat, np.array(lengths).mean(), len(lengths)))\n",
    "    "
   ]
  },
  {
   "cell_type": "markdown",
   "metadata": {},
   "source": [
    "For each category, print a few rationales"
   ]
  },
  {
   "cell_type": "code",
   "execution_count": 28,
   "metadata": {},
   "outputs": [
    {
     "name": "stdout",
     "output_type": "stream",
     "text": [
      "\n",
      "***AffiliationDirectedAbuse***\n",
      "there's a reason why 'addict parents sold me to their friends' is a trope.\n",
      "watching the left applaud her is like the popular kid in school making a joke that doesn't even make sense but everybody still laughs.\n",
      "tumblr makes me afraid to go outside in case i get to close to a feminist.\n",
      "ok i'm afraid to go outside in case i meet a crazy feminist.\n",
      "that'a true. most women who call themselves feminists are good people who just don't know that the wage gap or inflated rape statistics are bs. they don't hate men and would support men who are raped or assaulted (unlike some of the posts that get shared here of peoppe claiming that men can't be raped.) a lot of them believe basically the same things that i do, that neither men nor women should be discriminated against, violence against anyone is bad, women in poor countries often face the worst of sexism and sexual violence, etc. they just haven't been exposed to the nasty side of feminism, so while i and many people like me have decided that \"feminist\" may not be the best word to describe what we believe, they have no resaon to believe that the term might not be the best for them to use.\n",
      ">most feminists are good people \"most neo-nazis are good people\" oh wait. if you're in doubt when you talk about feminism, put neo-nazi instead. if it sounds ridiculous, it's not right.\n",
      "daughter: dad, can you take me to school me: sorry sweety, i can't be alone with you for any period of time, it wouldn't be *feminist* of me\n",
      "that sub, and any reddit youtube bait sub have mods that are absolutely cancer.\n",
      "the mods are dictators. the end.\n",
      "\n",
      "***PersonDirectedAbuse***\n",
      "margaret thatcher, as in the women who funded deathsquads in ireland right? (not sure on the situation)\n",
      "agreed. the new mod is garbage.\n",
      "i'm just drunk and remembering the bad things i've done in my life. you sociopaths can probably relate.\n",
      "do you tie your own shoes?\n",
      "steve king, rightly, lost all of his committees assignments. why this open anti-semite won't also lose her assignments is disgusting and reflects poorly on the democrats.\n",
      "read further, it's the alternative lol\n",
      "you aren't the art police, cunt.\n",
      "you were called out for being a know-it-all in that thread and now you're just licking your wounds and sulking like a child. if you don't like the link i submitted hit the downvote button. don't be a baby about it, you fucking wannabe serial killer. this is why i lurk!\n",
      "the sub is getting trolled by an unhinged person creating subs and trolling almost non stop.\n",
      "\n",
      "***IdentityDirectedAbuse***\n",
      "have you guys heard about the butt pizza? it's pretty shit.\n",
      "ol' mikey was gay as all fuck. leo too i think?\n",
      "i hate that i found this funny\n",
      "picture an overweight middle-aged woman in an office saying it.\n",
      "dont be jelous\n",
      "you havent seen those vids of britain where the entire neighborhoods are 100% muslims?\n",
      "there are tons of muslim migrants in russia from central asia and quite a few from china. countries like poland also have to deal with migrants from ukraine or balkan states.\n",
      "i'll probably live a long life and die old and weak like a bitch.\n",
      "she*male*\n",
      "\n",
      "***Slur***\n",
      "bitch\n",
      "n-words\n",
      "n-word\n",
      "bitchy\n",
      "bitching\n",
      "bitching\n",
      "fags\n",
      "nigga\n",
      "normalfag\n",
      "\n",
      "***CounterSpeech***\n",
      "that's not well said. it's just trying to justify that it's okay to attack people using sexuality as long as you have the right politics.\n",
      "so by your logic, the black people sold into slavery by fellow black people, werent oppressed?\n",
      "waut are there good murdering gay jokes. o i genuinely can't think of any\n",
      "it hurts to see people just generalizing cops like this while most of them are out saving people's fucking lives\n",
      "trans women are women\n",
      "trans women are women\n",
      "> they're making fun of you. well they are not doing a very good job.\n",
      "what the hell are you talking about?\n",
      "no, i've just never seen delusion like this.\n"
     ]
    }
   ],
   "source": [
    "for primary_cat, rationales in rats_map_prim.items():\n",
    "    print(\"\\n***%s***\" % primary_cat)\n",
    "    for rationale in rationales[1:10]:\n",
    "        print(rationale)"
   ]
  },
  {
   "cell_type": "markdown",
   "metadata": {},
   "source": [
    "# Frequent entries"
   ]
  },
  {
   "cell_type": "markdown",
   "metadata": {},
   "source": [
    "For each text, count the number of posts that have exactly that text"
   ]
  },
  {
   "cell_type": "code",
   "execution_count": 29,
   "metadata": {},
   "outputs": [
    {
     "name": "stdout",
     "output_type": "stream",
     "text": [
      "34\tYour post has been removed because it does not contain a [submission statement](https://www.reddit.com/r/conspiracy/comments/7m8q75/submission_statements_now_required_for_all_link/). If you think you received this message in error, or if you have subsequently added a submission statement, please [contact the mods through modmail](https://www.reddit.com/message/compose?to=%2Fr%2Fconspiracy), and include a link to the comment with your submission statement. [linebreak]  [linebreak] ^(This is a bot: replies and PMs will not receive responses.)\n",
      "29\tCat\n",
      "11\tF\n",
      "9\tSource?\n",
      "8\tSame\n",
      "8\tBased\n",
      "8\tYes\n",
      "7\tLol\n",
      "7\tThank you.\n",
      "7\tYes.\n"
     ]
    }
   ],
   "source": [
    "c = collections.Counter()\n",
    "processed = set()\n",
    "\n",
    "# add the entries to a counter\n",
    "for index, row in df.iterrows():\n",
    "    text = str(row['meta_text'])\n",
    "    if 'exclude' not in row['split']:\n",
    "        if row['info_id'] not in processed:\n",
    "            c.update({text: 1})\n",
    "            processed.add(row['info_id'])\n",
    "\n",
    "# now print most frequent entries\n",
    "for text, count in c.most_common(10):\n",
    "    print(\"%s\\t%s\" % (count, text))"
   ]
  },
  {
   "cell_type": "markdown",
   "metadata": {},
   "source": [
    "# Label analysis"
   ]
  },
  {
   "cell_type": "markdown",
   "metadata": {},
   "source": [
    "Print out label statistics (e.g., for each combination of labels its frequency) in the training set"
   ]
  },
  {
   "cell_type": "code",
   "execution_count": 30,
   "metadata": {},
   "outputs": [
    {
     "name": "stdout",
     "output_type": "stream",
     "text": [
      "Number of instances: 13584\n",
      "Number of non-Neutral instances: 2511\n",
      "Number of instances with >1 label: 264 (1.94%)\n",
      "Percentage of non-Neutral instances with >1 labels: 10.5\n",
      "\n",
      "Label cardinality: 1.021\n",
      "11073\tNeutral\n",
      "1131\tIdentityDirectedAbuse\n",
      "570\tAffiliationDirectedAbuse\n",
      "448\tPersonDirectedAbuse\n",
      "108\tIdentityDirectedAbuse PersonDirectedAbuse\n",
      "98\tCounterSpeech\n",
      "93\tAffiliationDirectedAbuse IdentityDirectedAbuse\n",
      "31\tAffiliationDirectedAbuse PersonDirectedAbuse\n",
      "17\tAffiliationDirectedAbuse IdentityDirectedAbuse PersonDirectedAbuse\n",
      "8\tCounterSpeech PersonDirectedAbuse\n",
      "4\tCounterSpeech IdentityDirectedAbuse\n",
      "3\tAffiliationDirectedAbuse CounterSpeech\n",
      "\n",
      "Pairwise counts\n",
      "\tNeutral\tIdentityDirectedAbuse\tAffiliationDirectedAbuse\tPersonDirectedAbuse\tCounterSpeech\n",
      "Neutral\t0.0\t0.0\t0.0\t0.0\t0.0\n",
      "IdentityDirectedAbuse\t0.0\t0.0\t110.0\t125.0\t4.0\n",
      "AffiliationDirectedAbuse\t0.0\t110.0\t0.0\t48.0\t3.0\n",
      "PersonDirectedAbuse\t0.0\t125.0\t48.0\t0.0\t8.0\n",
      "CounterSpeech\t0.0\t4.0\t3.0\t8.0\t0.0\n"
     ]
    }
   ],
   "source": [
    "label_cardinality, label_set_count, pairwise_label_counts = classification_analysis.compute_label_stats(df_train['labels'])"
   ]
  },
  {
   "cell_type": "markdown",
   "metadata": {},
   "source": [
    "# User analysis"
   ]
  },
  {
   "cell_type": "code",
   "execution_count": 31,
   "metadata": {},
   "outputs": [
    {
     "name": "stdout",
     "output_type": "stream",
     "text": [
      "Number of unique users: 11123\n"
     ]
    }
   ],
   "source": [
    "# note that this includes [deleted]\n",
    "print(\"Number of unique users: %s\" % len(set(df['meta_author'])))"
   ]
  },
  {
   "cell_type": "code",
   "execution_count": 32,
   "metadata": {},
   "outputs": [
    {
     "data": {
      "text/plain": [
       "[deleted]        1875\n",
       "SnapshillBot      339\n",
       "AutoModerator     265\n",
       "IBiteYou           64\n",
       "PlanetuneJeb       60\n",
       "Name: meta_author, dtype: int64"
      ]
     },
     "execution_count": 32,
     "metadata": {},
     "output_type": "execute_result"
    }
   ],
   "source": [
    "df['meta_author'].value_counts().nlargest(5) "
   ]
  },
  {
   "cell_type": "markdown",
   "metadata": {},
   "source": [
    "# Language analysis"
   ]
  },
  {
   "cell_type": "code",
   "execution_count": 33,
   "metadata": {},
   "outputs": [
    {
     "data": {
      "text/plain": [
       "Neutral                  352\n",
       "IdentityDirectedAbuse      1\n",
       "Name: annotation_Primary, dtype: int64"
      ]
     },
     "execution_count": 33,
     "metadata": {},
     "output_type": "execute_result"
    }
   ],
   "source": [
    "df[df['split']=='exclude_lang']['annotation_Primary'].value_counts()"
   ]
  },
  {
   "cell_type": "code",
   "execution_count": 34,
   "metadata": {},
   "outputs": [
    {
     "data": {
      "text/html": [
       "<div>\n",
       "<style scoped>\n",
       "    .dataframe tbody tr th:only-of-type {\n",
       "        vertical-align: middle;\n",
       "    }\n",
       "\n",
       "    .dataframe tbody tr th {\n",
       "        vertical-align: top;\n",
       "    }\n",
       "\n",
       "    .dataframe thead th {\n",
       "        text-align: right;\n",
       "    }\n",
       "</style>\n",
       "<table border=\"1\" class=\"dataframe\">\n",
       "  <thead>\n",
       "    <tr style=\"text-align: right;\">\n",
       "      <th></th>\n",
       "      <th>id</th>\n",
       "      <th>info_id</th>\n",
       "      <th>info_subreddit</th>\n",
       "      <th>info_subreddit_id</th>\n",
       "      <th>info_id.parent</th>\n",
       "      <th>info_id.link</th>\n",
       "      <th>info_thread.id</th>\n",
       "      <th>info_order</th>\n",
       "      <th>info_image.saved</th>\n",
       "      <th>annotation_Primary</th>\n",
       "      <th>...</th>\n",
       "      <th>annotation_Target_top.level.category</th>\n",
       "      <th>annotation_highlighted</th>\n",
       "      <th>meta_author</th>\n",
       "      <th>meta_created_utc</th>\n",
       "      <th>meta_date</th>\n",
       "      <th>meta_day</th>\n",
       "      <th>meta_permalink</th>\n",
       "      <th>split</th>\n",
       "      <th>subreddit_seen</th>\n",
       "      <th>meta_text</th>\n",
       "    </tr>\n",
       "  </thead>\n",
       "  <tbody>\n",
       "    <tr>\n",
       "      <th>11895</th>\n",
       "      <td>cad_11896</td>\n",
       "      <td>emeq3he</td>\n",
       "      <td>TumblrInAction</td>\n",
       "      <td>t5_2vizz</td>\n",
       "      <td>emel4vf</td>\n",
       "      <td>bk6i1i</td>\n",
       "      <td>818</td>\n",
       "      <td>818, 16, 01</td>\n",
       "      <td>0</td>\n",
       "      <td>IdentityDirectedAbuse</td>\n",
       "      <td>...</td>\n",
       "      <td>religion</td>\n",
       "      <td>reichchu</td>\n",
       "      <td>Nightwing69</td>\n",
       "      <td>1556890638</td>\n",
       "      <td>2019-05-03T13:37:18Z</td>\n",
       "      <td>2019-05-03T00:00:00Z</td>\n",
       "      <td>\"NA\"</td>\n",
       "      <td>exclude_lang</td>\n",
       "      <td>1</td>\n",
       "      <td>Reichchu</td>\n",
       "    </tr>\n",
       "  </tbody>\n",
       "</table>\n",
       "<p>1 rows × 23 columns</p>\n",
       "</div>"
      ],
      "text/plain": [
       "              id  info_id  info_subreddit info_subreddit_id info_id.parent  \\\n",
       "11895  cad_11896  emeq3he  TumblrInAction          t5_2vizz        emel4vf   \n",
       "\n",
       "      info_id.link  info_thread.id   info_order info_image.saved  \\\n",
       "11895       bk6i1i             818  818, 16, 01                0   \n",
       "\n",
       "          annotation_Primary  ... annotation_Target_top.level.category  \\\n",
       "11895  IdentityDirectedAbuse  ...                             religion   \n",
       "\n",
       "      annotation_highlighted  meta_author meta_created_utc  \\\n",
       "11895               reichchu  Nightwing69       1556890638   \n",
       "\n",
       "                  meta_date              meta_day  meta_permalink  \\\n",
       "11895  2019-05-03T13:37:18Z  2019-05-03T00:00:00Z            \"NA\"   \n",
       "\n",
       "              split subreddit_seen meta_text  \n",
       "11895  exclude_lang              1  Reichchu  \n",
       "\n",
       "[1 rows x 23 columns]"
      ]
     },
     "execution_count": 34,
     "metadata": {},
     "output_type": "execute_result"
    }
   ],
   "source": [
    "df[(df[\"split\"] == \"exclude_lang\") & (df[\"annotation_Primary\"] == \"IdentityDirectedAbuse\")]"
   ]
  },
  {
   "cell_type": "markdown",
   "metadata": {},
   "source": [
    "# Subreddit analysis"
   ]
  },
  {
   "cell_type": "code",
   "execution_count": 35,
   "metadata": {},
   "outputs": [
    {
     "data": {
      "text/plain": [
       "info_subreddit\n",
       "4chan                     78\n",
       "CCJ2                      44\n",
       "Drama                    148\n",
       "HateCrimeHoaxes           41\n",
       "ImGoingToHellForThis     104\n",
       "Negareddit                43\n",
       "ShitPoliticsSays         100\n",
       "SubredditDrama            96\n",
       "TrueOffMyChest           123\n",
       "TumblrInAction            98\n",
       "WatchRedditDie            77\n",
       "bakchodi                 123\n",
       "conspiracy               145\n",
       "imgoingtohellforthis2     31\n",
       "smuggies                  38\n",
       "subredditcancer          106\n",
       "Name: info_thread.id, dtype: int64"
      ]
     },
     "execution_count": 35,
     "metadata": {},
     "output_type": "execute_result"
    }
   ],
   "source": [
    "df.groupby(['info_subreddit'])['info_thread.id'].nunique()"
   ]
  },
  {
   "cell_type": "code",
   "execution_count": 36,
   "metadata": {},
   "outputs": [
    {
     "data": {
      "text/plain": [
       "1395"
      ]
     },
     "execution_count": 36,
     "metadata": {},
     "output_type": "execute_result"
    }
   ],
   "source": [
    "df['info_thread.id'].nunique()"
   ]
  }
 ],
 "metadata": {
  "kernelspec": {
   "display_name": "hatespeech",
   "language": "python",
   "name": "hatespeech"
  },
  "language_info": {
   "codemirror_mode": {
    "name": "ipython",
    "version": 3
   },
   "file_extension": ".py",
   "mimetype": "text/x-python",
   "name": "python",
   "nbconvert_exporter": "python",
   "pygments_lexer": "ipython3",
   "version": "3.8.3"
  }
 },
 "nbformat": 4,
 "nbformat_minor": 4
}
